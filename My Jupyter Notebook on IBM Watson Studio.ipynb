{
 "cells": [
  {
   "cell_type": "markdown",
   "metadata": {
    "collapsed": true
   },
   "source": [
    "# My Jupyter Notebook on IBM Watson Studio"
   ]
  },
  {
   "cell_type": "markdown",
   "metadata": {},
   "source": [
    "__Chiara Brambilla__ \\\n",
    "Data Scientist"
   ]
  },
  {
   "cell_type": "markdown",
   "metadata": {},
   "source": [
    "_I am interested in data science because I aim to understand the real world through information. I love to gain new knowledge and keep updated about new technologies. Data Science will allow me to use my skills to achieve this goal._"
   ]
  },
  {
   "cell_type": "markdown",
   "metadata": {},
   "source": [
    "### The following code cell will display the solution of some easy computations."
   ]
  },
  {
   "cell_type": "code",
   "execution_count": 5,
   "metadata": {
    "scrolled": true
   },
   "outputs": [
    {
     "data": {
      "text/plain": [
       "-2"
      ]
     },
     "execution_count": 5,
     "metadata": {},
     "output_type": "execute_result"
    }
   ],
   "source": [
    "1+1*(2-5)"
   ]
  },
  {
   "cell_type": "markdown",
   "metadata": {},
   "source": [
    "In this markdown cell are displayed:\n",
    "- a bulleted list\n",
    "- a numbered list\n",
    "- a table\n",
    "- two hyperlinks\n",
    "\n",
    "This numbered list contains two hyperlinks\n",
    "1. [link_1](https://www.google.com/url?sa=i&url=https%3A%2F%2Fwww.consigliamidove.it%2Fislanda%2F&psig=AOvVaw2k0efX3Oh7HD767HIfOjPx&ust=1674385882811000&source=images&cd=vfe&ved=0CBAQjRxqFwoTCPiy5s7D2PwCFQAAAAAdAAAAABAJ) \n",
    "2. [link_2](https://www.icelandtours.is/) \n",
    "\n",
    "The following table explains the content of the hyperlinks above:\n",
    "\n",
    "| __Number__ | __Content__ |\n",
    "| :-: | --- |\n",
    "| 1 | Webpage about Iceland |\n",
    "| 2 | Webpage for Iceland tours |"
   ]
  }
 ],
 "metadata": {
  "kernelspec": {
   "display_name": "Python 3.10",
   "language": "python",
   "name": "python3"
  },
  "language_info": {
   "codemirror_mode": {
    "name": "ipython",
    "version": 3
   },
   "file_extension": ".py",
   "mimetype": "text/x-python",
   "name": "python",
   "nbconvert_exporter": "python",
   "pygments_lexer": "ipython3",
   "version": "3.10.6"
  }
 },
 "nbformat": 4,
 "nbformat_minor": 1
}
